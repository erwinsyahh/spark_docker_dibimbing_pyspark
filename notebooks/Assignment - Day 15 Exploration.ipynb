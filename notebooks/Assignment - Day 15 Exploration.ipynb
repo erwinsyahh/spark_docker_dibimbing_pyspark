{
 "cells": [
  {
   "cell_type": "code",
   "execution_count": 1,
   "id": "37e1a9d3-6ce7-4211-bba6-f947998289d6",
   "metadata": {
    "tags": []
   },
   "outputs": [],
   "source": [
    "import pyspark\n",
    "import os\n",
    "import json\n",
    "import argparse\n",
    "import matplotlib.pyplot as plt\n",
    "\n",
    "from dotenv import load_dotenv\n",
    "from pathlib import Path\n",
    "from pyspark.sql.types import StructType\n",
    "from pyspark.sql.functions import to_timestamp,col,when"
   ]
  },
  {
   "cell_type": "code",
   "execution_count": 2,
   "id": "1ef29ed0-a587-4e0e-afc4-52ce32f8898a",
   "metadata": {
    "tags": []
   },
   "outputs": [],
   "source": [
    "import os\n",
    "import sys\n",
    "\n",
    "os.environ['PYSPARK_PYTHON'] = sys.executable\n",
    "os.environ['PYSPARK_DRIVER_PYTHON'] = sys.executable"
   ]
  },
  {
   "attachments": {},
   "cell_type": "markdown",
   "id": "b670af6b-1c0d-4431-b927-f1a8f9a1ea82",
   "metadata": {
    "tags": []
   },
   "source": [
    "## Initialization"
   ]
  },
  {
   "cell_type": "code",
   "execution_count": 3,
   "id": "8bc3f378-562a-4d85-b5f9-f996cb875837",
   "metadata": {
    "tags": []
   },
   "outputs": [
    {
     "name": "stdout",
     "output_type": "stream",
     "text": [
      "Loaded .env file: environ({'SHELL': '/bin/bash', 'HOSTNAME': '402bdc7229c3', 'LANGUAGE': 'en_US.UTF-8', 'SPARK_OPTS': '--driver-java-options=-Xms1024M --driver-java-options=-Xmx4096M --driver-java-options=-Dlog4j.logLevel=info', 'NB_UID': '1000', 'JUPYTER_ALLOW_INSECURE_WRITES': '1', 'PWD': '/home/jovyan', 'HOME': '/home/jovyan', 'LANG': 'en_US.UTF-8', 'NB_GID': '100', 'XDG_CACHE_HOME': '/home/jovyan/.cache', 'APACHE_SPARK_VERSION': '3.3.2', 'HADOOP_VERSION': '3', 'SHLVL': '0', 'CONDA_DIR': '/opt/conda', 'SPARK_HOME': '/usr/local/spark', 'JUPYTER_PORT': '8888', 'SPARK_CONF_DIR': '/usr/local/spark/conf', 'NB_USER': 'jovyan', 'LC_ALL': 'en_US.UTF-8', 'PATH': '/opt/conda/bin:/usr/local/sbin:/usr/local/bin:/usr/sbin:/usr/bin:/sbin:/bin:/usr/local/spark/bin', 'PYSPARK_PYTHONPATH_SET': '1', 'DEBIAN_FRONTEND': 'noninteractive', 'LOGNAME': 'jovyan', 'USER': 'jovyan', 'TERM': 'xterm-color', 'SUDO_COMMAND': '/opt/conda/bin/jupyter lab', 'SUDO_USER': 'root', 'SUDO_UID': '0', 'SUDO_GID': '0', 'PYTHONPATH': '/usr/local/spark/python/lib/py4j-0.10.9.5-src.zip:/usr/local/spark/python:', 'PYDEVD_USE_FRAME_EVAL': 'NO', 'JPY_SESSION_NAME': '/home/jovyan/Assignment - Day 15 Cleaning Data with Python.ipynb', 'JPY_PARENT_PID': '18', 'CLICOLOR': '1', 'FORCE_COLOR': '1', 'CLICOLOR_FORCE': '1', 'PAGER': 'cat', 'GIT_PAGER': 'cat', 'MPLBACKEND': 'module://matplotlib_inline.backend_inline', 'PYSPARK_PYTHON': '/opt/conda/bin/python', 'PYSPARK_DRIVER_PYTHON': '/opt/conda/bin/python', 'DIBIMBING_DE_POSTGRES_PORT': '5435', 'DIBIMBING_DE_POSTGRES_ACCOUNT': 'dataeng', 'DIBIMBING_DE_POSTGRES_PASSWORD': 'passwordkuatpostgres', 'DIBIMBING_DE_POSTGRES_DB': 'dibimbing_dataeng_db', 'DIBIMBING_DE_POSTGRES_HOST': 'dibimbing-dataeng-postgres', 'DIBIMBING_DE_POSTGRES_CONTAINER_NAME': 'dibimbing-dataeng-postgres', 'DIBIMBING_DE_SPARK_MASTER_CONTAINER_NAME': 'dibimbing-dataeng-spark-master', 'DIBIMBING_DE_SPARK_MASTER_HOST_NAME': 'dibimbing-dataeng-spark-master', 'DIBIMBING_DE_SPARK_MASTER_PORT': '7077', 'DIBIMBING_DE_SPARK_WORKER_CONTAINER_NAME': 'dibimbing-dataeng-spark-worker', 'DIBIMBING_DE_SPARK_DRIVER': 'org.postgresql.Driver', 'DIBIMBING_DE_SPARK_STRINGTYPE': 'unspecified', 'DIBIMBING_DE_SPARK_TRANSFORMER_SQL': '/challenge_spark/spark_transform.sql', 'DIBIMBING_DE_JUPYTER_PORT': '9999'})\n"
     ]
    }
   ],
   "source": [
    "dotenv_path = Path('/resources/.env')\n",
    "load_dotenv(dotenv_path=dotenv_path)\n",
    "print(f\"Loaded .env file: {os.environ}\")"
   ]
  },
  {
   "cell_type": "code",
   "execution_count": 4,
   "id": "f0ecedc8-48f4-49c2-a2ba-a4fadf1a2fe7",
   "metadata": {
    "tags": []
   },
   "outputs": [],
   "source": [
    "postgres_host = os.getenv('DIBIMBING_DE_POSTGRES_HOST')\n",
    "postgres_db = os.getenv('DIBIMBING_DE_POSTGRES_DB')\n",
    "postgres_user = os.getenv('DIBIMBING_DE_POSTGRES_ACCOUNT')\n",
    "postgres_password = os.getenv('DIBIMBING_DE_POSTGRES_PASSWORD')"
   ]
  },
  {
   "cell_type": "code",
   "execution_count": 5,
   "id": "f712eae3-efbf-4eb1-8a3a-38355e1b0e8e",
   "metadata": {
    "tags": []
   },
   "outputs": [],
   "source": [
    "sparkcontext = pyspark.SparkContext.getOrCreate(conf=(\n",
    "        pyspark\n",
    "        .SparkConf()\n",
    "        .setAppName('Dibimbing')\n",
    "        .setMaster('local')\n",
    "        .set(\"spark.jars\", \"/opt/postgresql-42.2.18.jar\")\n",
    "    ))\n",
    "sparkcontext.setLogLevel(\"WARN\")\n",
    "\n",
    "spark = pyspark.sql.SparkSession(sparkcontext.getOrCreate())"
   ]
  },
  {
   "cell_type": "code",
   "execution_count": 6,
   "id": "907c95f1-6b9e-43b0-ade9-543861d42026",
   "metadata": {
    "tags": []
   },
   "outputs": [
    {
     "data": {
      "text/html": [
       "\n",
       "            <div>\n",
       "                <p><b>SparkSession - in-memory</b></p>\n",
       "                \n",
       "        <div>\n",
       "            <p><b>SparkContext</b></p>\n",
       "\n",
       "            <p><a href=\"http://402bdc7229c3:4041\">Spark UI</a></p>\n",
       "\n",
       "            <dl>\n",
       "              <dt>Version</dt>\n",
       "                <dd><code>v3.3.2</code></dd>\n",
       "              <dt>Master</dt>\n",
       "                <dd><code>local</code></dd>\n",
       "              <dt>AppName</dt>\n",
       "                <dd><code>Dibimbing</code></dd>\n",
       "            </dl>\n",
       "        </div>\n",
       "        \n",
       "            </div>\n",
       "        "
      ],
      "text/plain": [
       "<pyspark.sql.session.SparkSession at 0x7f88b6735bd0>"
      ]
     },
     "execution_count": 6,
     "metadata": {},
     "output_type": "execute_result"
    }
   ],
   "source": [
    "spark"
   ]
  },
  {
   "attachments": {},
   "cell_type": "markdown",
   "id": "cbc2699f-efad-4570-988d-8743a5b08b7b",
   "metadata": {},
   "source": [
    "## JDBC"
   ]
  },
  {
   "cell_type": "code",
   "execution_count": 7,
   "id": "f3e623e3-e02d-4c08-b76d-7710cb2e0d99",
   "metadata": {
    "tags": []
   },
   "outputs": [],
   "source": [
    "jdbc_url = f'jdbc:postgresql://{postgres_host}/{postgres_db}'\n",
    "jdbc_properties = {\n",
    "    'user': postgres_user,\n",
    "    'password': postgres_password,\n",
    "    'driver': 'org.postgresql.Driver',\n",
    "    'stringtype': 'unspecified'\n",
    "}"
   ]
  },
  {
   "cell_type": "code",
   "execution_count": 8,
   "id": "e7acf9dd-c8d8-48fd-aab3-0223d99b6c4e",
   "metadata": {
    "tags": []
   },
   "outputs": [
    {
     "name": "stdout",
     "output_type": "stream",
     "text": [
      "+---------+---------+--------------------+--------+-----------+---------+----------+--------------+\n",
      "|invoiceno|stockcode|         description|quantity|invoicedate|unitprice|customerid|       country|\n",
      "+---------+---------+--------------------+--------+-----------+---------+----------+--------------+\n",
      "|   536365|   85123A|WHITE HANGING HEA...|       6| 2010-12-01|     2.55|     17850|United Kingdom|\n",
      "|   536365|    71053| WHITE METAL LANTERN|       6| 2010-12-01|     3.39|     17850|United Kingdom|\n",
      "|   536365|   84406B|CREAM CUPID HEART...|       8| 2010-12-01|     2.75|     17850|United Kingdom|\n",
      "|   536365|   84029G|KNITTED UNION FLA...|       6| 2010-12-01|     3.39|     17850|United Kingdom|\n",
      "|   536365|   84029E|RED WOOLLY HOTTIE...|       6| 2010-12-01|     3.39|     17850|United Kingdom|\n",
      "|   536365|    22752|SET 7 BABUSHKA NE...|       2| 2010-12-01|     7.65|     17850|United Kingdom|\n",
      "|   536365|    21730|GLASS STAR FROSTE...|       6| 2010-12-01|     4.25|     17850|United Kingdom|\n",
      "|   536366|    22633|HAND WARMER UNION...|       6| 2010-12-01|     1.85|     17850|United Kingdom|\n",
      "|   536366|    22632|HAND WARMER RED P...|       6| 2010-12-01|     1.85|     17850|United Kingdom|\n",
      "|   536367|    84879|ASSORTED COLOUR B...|      32| 2010-12-01|     1.69|     13047|United Kingdom|\n",
      "+---------+---------+--------------------+--------+-----------+---------+----------+--------------+\n",
      "only showing top 10 rows\n",
      "\n"
     ]
    }
   ],
   "source": [
    "retail_df = spark.read.jdbc(\n",
    "    jdbc_url,\n",
    "    'public.retail',\n",
    "    properties=jdbc_properties\n",
    ")\n",
    "retail_df.show(10)"
   ]
  },
  {
   "cell_type": "code",
   "execution_count": 9,
   "id": "bee1538c-726d-436d-9e9d-6eaabb1789e7",
   "metadata": {
    "tags": []
   },
   "outputs": [
    {
     "name": "stdout",
     "output_type": "stream",
     "text": [
      "Number of rows: 541909\n",
      "Number of columns: 8\n"
     ]
    }
   ],
   "source": [
    "print(\"Number of rows: {}\".format(retail_df.count()))\n",
    "print(\"Number of columns: {}\".format(len(retail_df.columns)))"
   ]
  },
  {
   "cell_type": "code",
   "execution_count": 10,
   "id": "eef7491f-8114-412f-a6af-725338772590",
   "metadata": {
    "tags": []
   },
   "outputs": [
    {
     "name": "stdout",
     "output_type": "stream",
     "text": [
      "+---------+---------+--------------------+--------+-----------+---------+----------+--------------+-----+\n",
      "|invoiceno|stockcode|         description|quantity|invoicedate|unitprice|customerid|       country|count|\n",
      "+---------+---------+--------------------+--------+-----------+---------+----------+--------------+-----+\n",
      "|   536551|    22551|PLASTERS IN TIN S...|       1| 2010-12-01|     1.65|     17346|United Kingdom|    2|\n",
      "|   537769|    22834|HAND WARMER BABUS...|       1| 2010-12-08|      2.1|     15021|United Kingdom|    2|\n",
      "|   538201|    22652|   TRAVEL SEWING KIT|       1| 2010-12-10|     1.65|     15723|United Kingdom|    2|\n",
      "|   541855|    22465|HANGING METAL STA...|       1| 2011-01-23|     1.65|     13742|United Kingdom|    2|\n",
      "|   542112|    85150|LADIES & GENTLEME...|       1| 2011-01-25|     2.55|     13168|United Kingdom|    2|\n",
      "|   544463|    22256|FELT FARM ANIMAL ...|       1| 2011-02-20|     1.25|     12988|United Kingdom|    4|\n",
      "|   546731|   15044A| PINK PAPER PARASOL |       6| 2011-03-16|     2.95|     13089|United Kingdom|    2|\n",
      "|   546982|    22659|LUNCH BOX I LOVE ...|       1| 2011-03-18|     1.95|     15483|United Kingdom|    3|\n",
      "|   547194|    22895|SET OF 2 TEA TOWE...|       1| 2011-03-21|     2.95|     12637|        France|    2|\n",
      "|   547709|    21340|CLASSIC METAL BIR...|       1| 2011-03-24|    12.75|     18109|United Kingdom|    2|\n",
      "|   548309|    22616|PACK OF 12 LONDON...|      12| 2011-03-30|     0.29|     16657|United Kingdom|    2|\n",
      "|   559133|    23159|SET OF 5 PANCAKE ...|       1| 2011-07-06|     2.08|     17861|United Kingdom|    2|\n",
      "|   566018|    20676|  RED RETROSPOT BOWL|       1| 2011-09-08|     1.25|     13137|United Kingdom|    2|\n",
      "|   566249|    22749|FELTCRAFT PRINCES...|       1| 2011-09-11|     3.75|     13527|United Kingdom|    2|\n",
      "|   566345|    21313|GLASS HEART T-LIG...|      12| 2011-09-12|     0.85|     17685|United Kingdom|    2|\n",
      "|   568212|    23493|VINTAGE DOILY TRA...|       1| 2011-09-25|     1.95|     15154|United Kingdom|    2|\n",
      "|   569524|    21824|PAINTED METAL STA...|       1| 2011-10-04|     0.39|     14506|United Kingdom|    2|\n",
      "|   569866|    23191|BUNDLE OF 3 RETRO...|       1| 2011-10-06|     1.65|     12757|      Portugal|    2|\n",
      "|   570197|    21628|TRIANGULAR POUFFE...|       1| 2011-10-07|    14.95|     13755|United Kingdom|    2|\n",
      "|   570423|    22086|PAPER CHAIN KIT 5...|       3| 2011-10-10|     2.95|     14451|United Kingdom|    2|\n",
      "+---------+---------+--------------------+--------+-----------+---------+----------+--------------+-----+\n",
      "only showing top 20 rows\n",
      "\n",
      "Number of duplicate rows: 5269\n",
      "Duplicates removed\n"
     ]
    }
   ],
   "source": [
    "# Count the number of duplicates in the dataset\n",
    "# Find duplicate rows\n",
    "duplicate_rows = retail_df.groupBy(col(\"invoiceno\"), col(\"stockcode\"), col(\"description\"), col(\"quantity\"), col(\"invoicedate\"), col(\"unitprice\"), col(\"customerid\"), col(\"country\")).count().filter(col(\"count\") > 1)\n",
    "\n",
    "# Show duplicate rows and their duplicates\n",
    "duplicate_rows.show()\n",
    "duplicate_count = retail_df.count() - retail_df.dropDuplicates().count()\n",
    "print(f\"Number of duplicate rows: {duplicate_count}\")\n",
    "retail_df = retail_df.dropDuplicates()\n",
    "print(f\"Duplicates removed\")"
   ]
  },
  {
   "cell_type": "code",
   "execution_count": 11,
   "id": "df30f739-60f4-4cae-8543-b979d7cb6387",
   "metadata": {
    "tags": []
   },
   "outputs": [
    {
     "name": "stdout",
     "output_type": "stream",
     "text": [
      "+---------+---------+-----------+--------+-----------+---------+----------+-------+\n",
      "|invoiceno|stockcode|description|quantity|invoicedate|unitprice|customerid|country|\n",
      "+---------+---------+-----------+--------+-----------+---------+----------+-------+\n",
      "|        0|        0|       1454|       0|          0|        0|    135037|      0|\n",
      "+---------+---------+-----------+--------+-----------+---------+----------+-------+\n",
      "\n",
      "Number of rows: 401603\n",
      "Number of columns: 8\n",
      "Removed empty values from customerid\n",
      "Imputed empty descriptions with 'Others'\n"
     ]
    }
   ],
   "source": [
    "from pyspark.sql.functions import *\n",
    "import matplotlib.pyplot as plt\n",
    "# from pyspark.sql.functions import col, isnan, isnull\n",
    "\n",
    "# Count the number of missing values in each column\n",
    "missing_counts = retail_df.select([col(c).isNull().cast(\"int\").alias(c) for c in retail_df.columns]) \\\n",
    "                         .agg(*[sum(col(c)).alias(c) for c in retail_df.columns])\n",
    "\n",
    "# Display the missing value counts\n",
    "missing_counts.show()\n",
    "\n",
    "# Remove rows with missing values\n",
    "retail_df = retail_df.filter(col(\"customerid\").isNotNull())\n",
    "retail_df = retail_df.withColumn(\"description\", when(col(\"description\").isNull(), \"Others\").otherwise(col(\"description\")))\n",
    "\n",
    "# Get the number of rows\n",
    "num_rows = retail_df.count()\n",
    "\n",
    "# Get the number of columns\n",
    "num_cols = len(retail_df.columns)\n",
    "\n",
    "# Print the shape of the DataFrame\n",
    "print(\"Number of rows: {}\".format(num_rows))\n",
    "print(\"Number of columns: {}\".format(num_cols))\n",
    "print(f\"Removed empty values from customerid\")\n",
    "print(f\"Imputed empty descriptions with 'Others'\")"
   ]
  },
  {
   "cell_type": "code",
   "execution_count": 12,
   "id": "bf474a77-0941-4a78-ba96-f4c4515e7af0",
   "metadata": {
    "tags": []
   },
   "outputs": [
    {
     "name": "stdout",
     "output_type": "stream",
     "text": [
      "Number of distinct values for column 'invoiceno': 22190\n",
      "Distinct values for column 'invoiceno':\n",
      "536938, 537691, 538184, 538517, 538879\n",
      "\n",
      "Number of distinct values for column 'stockcode': 3684\n",
      "Distinct values for column 'stockcode':\n",
      "22728, 21889, 90210B, 21259, 21894\n",
      "\n",
      "Number of distinct values for column 'description': 3896\n",
      "Distinct values for column 'description':\n",
      "10 COLOUR SPACEBOY PEN, SET/10 BLUE POLKADOT PARTY CANDLES, POTTING SHED SOW 'N' GROW SET, SET/3 RED GINGHAM ROSE STORAGE BOX, MAGNETS PACK OF 4 VINTAGE LABELS \n",
      "\n",
      "Number of distinct values for column 'quantity': 436\n",
      "Distinct values for column 'quantity':\n",
      "496, -35, 392, 540, 31\n",
      "\n",
      "Number of distinct values for column 'invoicedate': 305\n",
      "Distinct values for column 'invoicedate':\n",
      "2011-01-30, 2011-05-06, 2011-10-07, 2011-01-23, 2011-07-07\n",
      "\n",
      "Number of distinct values for column 'unitprice': 620\n",
      "Distinct values for column 'unitprice':\n",
      "10.65, 0.66, 206.4, 9.13, 3.26\n",
      "\n",
      "Number of distinct values for column 'customerid': 4372\n",
      "Distinct values for column 'customerid':\n",
      "16250, 15574, 15555, 15271, 17714\n",
      "\n",
      "Number of distinct values for column 'country': 37\n",
      "Distinct values for column 'country':\n",
      "Sweden, Singapore, Germany, RSA, France\n",
      "\n"
     ]
    }
   ],
   "source": [
    "# Iterate over each column\n",
    "for column in retail_df.columns:\n",
    "    distinct_count = retail_df.select(column).distinct().count()\n",
    "    distinct_values = retail_df.select(column).distinct().limit(5).collect()\n",
    "    values_list = [str(row[column]) for row in distinct_values]\n",
    "    print(f\"Number of distinct values for column '{column}': {distinct_count}\")\n",
    "    print(f\"Distinct values for column '{column}':\")\n",
    "    print(\", \".join(values_list))\n",
    "    print()"
   ]
  },
  {
   "cell_type": "code",
   "execution_count": 13,
   "id": "67184316-0d9c-4d2b-a9f2-e41b42704073",
   "metadata": {
    "tags": []
   },
   "outputs": [
    {
     "name": "stdout",
     "output_type": "stream",
     "text": [
      "  summary          invoiceno           stockcode   \n",
      "0   count             401603              401603  \\\n",
      "1    mean  560591.0556513236  27434.089987318876   \n",
      "2  stddev  13087.12918128383   16408.23213416858   \n",
      "3     min             536365               10002   \n",
      "4     max            C581569                POST   \n",
      "\n",
      "                        description            quantity           unitprice   \n",
      "0                            401603              401603              401603  \\\n",
      "1                              None  12.183297933531373  3.4740674347487133   \n",
      "2                              None  250.28334823423202   69.76412187978318   \n",
      "3     4 PURPLE FLOCK DINNER CANDLES              -80995                 0.0   \n",
      "4  ZINC WIRE SWEETHEART LETTER TRAY               80995             38970.0   \n",
      "\n",
      "           customerid      country  \n",
      "0              401603       401603  \n",
      "1  15281.162092912653         None  \n",
      "2  1714.0080320144905         None  \n",
      "3               12346    Australia  \n",
      "4               18287  Unspecified  \n"
     ]
    }
   ],
   "source": [
    "summary_df = retail_df.describe().toPandas()\n",
    "print(summary_df)"
   ]
  },
  {
   "cell_type": "code",
   "execution_count": 14,
   "id": "cccc8a2d-569e-473d-89f5-4bc6f1f4f919",
   "metadata": {
    "tags": []
   },
   "outputs": [
    {
     "name": "stdout",
     "output_type": "stream",
     "text": [
      "+-------+-----------------+------------------+--------------------+------------------+------------------+------------------+-----------+\n",
      "|summary|        invoiceno|         stockcode|         description|          quantity|         unitprice|        customerid|    country|\n",
      "+-------+-----------------+------------------+--------------------+------------------+------------------+------------------+-----------+\n",
      "|  count|           401603|            401603|              401603|            401603|            401603|            401603|     401603|\n",
      "|   mean|560591.0556513236|27434.089987318876|                null|12.183297933531373|3.4740674347487133|15281.162092912653|       null|\n",
      "| stddev|13087.12918128383| 16408.23213416858|                null|250.28334823423202| 69.76412187978318|1714.0080320144905|       null|\n",
      "|    min|           536365|             10002| 4 PURPLE FLOCK D...|            -80995|               0.0|             12346|  Australia|\n",
      "|    max|          C581569|              POST|ZINC WIRE SWEETHE...|             80995|           38970.0|             18287|Unspecified|\n",
      "+-------+-----------------+------------------+--------------------+------------------+------------------+------------------+-----------+\n",
      "\n"
     ]
    }
   ],
   "source": [
    "# Generate summary statistics using describe()\n",
    "summary_df = retail_df.describe()\n",
    "\n",
    "# Show the summary statistics\n",
    "summary_df.show()"
   ]
  },
  {
   "cell_type": "code",
   "execution_count": 15,
   "id": "96d558f0-c8ee-49b1-9cb2-020e1d95103a",
   "metadata": {
    "tags": []
   },
   "outputs": [
    {
     "name": "stdout",
     "output_type": "stream",
     "text": [
      "Count of negative quantities: 8872\n",
      "Count of prices greater than 1000: 46\n"
     ]
    }
   ],
   "source": [
    "# Check for negative quantities and get count\n",
    "negative_quantities = retail_df.filter(col(\"quantity\") < 0)\n",
    "negative_quantities_count = negative_quantities.count()\n",
    "print(\"Count of negative quantities:\", negative_quantities_count)\n",
    "\n",
    "# Check for unusually high prices and get count\n",
    "high_prices = retail_df.filter(col(\"unitprice\") > 1000)\n",
    "high_prices_count = high_prices.count()\n",
    "print(\"Count of prices greater than 1000:\", high_prices_count)"
   ]
  },
  {
   "cell_type": "code",
   "execution_count": 16,
   "id": "74931efd-7f72-4d91-aafa-de03cc1316e4",
   "metadata": {
    "tags": []
   },
   "outputs": [
    {
     "name": "stdout",
     "output_type": "stream",
     "text": [
      "+---------+---------+--------------------+--------+-----------+---------+----------+-------+\n",
      "|invoiceno|stockcode|         description|quantity|invoicedate|unitprice|customerid|country|\n",
      "+---------+---------+--------------------+--------+-----------+---------+----------+-------+\n",
      "|  C539576|    21155|RED RETROSPOT PEG...|     -12| 2010-12-20|      2.1|     14911|   EIRE|\n",
      "|   539320|    21155|RED RETROSPOT PEG...|      12| 2010-12-16|      2.1|     14911|   EIRE|\n",
      "|   581433|    21155|RED RETROSPOT PEG...|       6| 2011-12-08|     2.55|     14911|   EIRE|\n",
      "|   538009|    21155|RED RETROSPOT PEG...|       6| 2010-12-09|      2.1|     14911|   EIRE|\n",
      "|   548449|    21155|RED RETROSPOT PEG...|       6| 2011-03-31|     2.55|     14911|   EIRE|\n",
      "|   570016|    21155|RED RETROSPOT PEG...|       6| 2011-10-07|     2.55|     14911|   EIRE|\n",
      "|   568048|    21155|RED RETROSPOT PEG...|       6| 2011-09-23|     2.55|     14911|   EIRE|\n",
      "|   565800|    21155|RED RETROSPOT PEG...|       6| 2011-09-07|     2.55|     14911|   EIRE|\n",
      "+---------+---------+--------------------+--------+-----------+---------+----------+-------+\n",
      "\n"
     ]
    }
   ],
   "source": [
    "from pyspark.sql.functions import col\n",
    "\n",
    "filtered_retail_df = retail_df.filter((col(\"customerid\") == 14911) & (col(\"stockcode\") == \"21155\"))\n",
    "filtered_retail_df.show()"
   ]
  },
  {
   "cell_type": "code",
   "execution_count": 17,
   "id": "6f7facef-e00f-414b-b859-71dc077b2285",
   "metadata": {
    "tags": []
   },
   "outputs": [
    {
     "name": "stdout",
     "output_type": "stream",
     "text": [
      "+---------+---------+---------------+--------+-----------+---------+----------+--------------+\n",
      "|invoiceno|stockcode|    description|quantity|invoicedate|unitprice|customerid|       country|\n",
      "+---------+---------+---------------+--------+-----------+---------+----------+--------------+\n",
      "|  C560647|        M|         Manual|      -1| 2011-07-20|   3060.6|     18102|United Kingdom|\n",
      "|  C548830|        M|         Manual|      -1| 2011-04-04|  2382.92|     12744|     Singapore|\n",
      "|  C542348|        M|         Manual|      -1| 2011-01-27|  1715.85|     12539|         Spain|\n",
      "|  C571750|        M|         Manual|      -1| 2011-10-19|  2118.74|     12744|     Singapore|\n",
      "|  C562647|        M|         Manual|      -1| 2011-08-08|  3155.95|     15502|United Kingdom|\n",
      "|  C551685|     POST|        POSTAGE|      -1| 2011-05-03|  8142.75|     16029|United Kingdom|\n",
      "|   548820|        M|         Manual|       1| 2011-04-04|  2053.07|     12744|     Singapore|\n",
      "|   579196|      DOT| DOTCOM POSTAGE|       1| 2011-11-28|  1526.76|     14096|United Kingdom|\n",
      "|  C556445|        M|         Manual|      -1| 2011-06-10|  38970.0|     15098|United Kingdom|\n",
      "|   580727|      DOT| DOTCOM POSTAGE|       1| 2011-12-05|  1599.26|     14096|United Kingdom|\n",
      "|  C580726|     CRUK|CRUK Commission|      -1| 2011-12-05|  1100.44|     14096|United Kingdom|\n",
      "|  C560372|        M|         Manual|      -1| 2011-07-18|  4287.63|     17448|United Kingdom|\n",
      "|   546328|        M|         Manual|       1| 2011-03-11|  1687.17|     14911|          EIRE|\n",
      "|   548813|        M|         Manual|       1| 2011-04-04|  2382.92|     12744|     Singapore|\n",
      "|   554155|        M|         Manual|       1| 2011-05-23|  1241.98|     12757|      Portugal|\n",
      "|  C560420|        M|         Manual|      -1| 2011-07-18|  1592.49|     15369|United Kingdom|\n",
      "|   573077|        M|         Manual|       1| 2011-10-27|  4161.06|     12536|        France|\n",
      "|   571751|        M|         Manual|       1| 2011-10-19|  3949.32|     12744|     Singapore|\n",
      "|  C571750|        M|         Manual|      -1| 2011-10-19|  3949.32|     12744|     Singapore|\n",
      "|   573080|        M|         Manual|       1| 2011-10-27|  4161.06|     12536|        France|\n",
      "+---------+---------+---------------+--------+-----------+---------+----------+--------------+\n",
      "only showing top 20 rows\n",
      "\n"
     ]
    }
   ],
   "source": [
    "filtered_retail_df = retail_df.filter((col(\"unitprice\") > 1000))\n",
    "filtered_retail_df.show()"
   ]
  },
  {
   "cell_type": "code",
   "execution_count": 18,
   "id": "e3916e5f-49ce-4fff-990c-3efa5f9758b1",
   "metadata": {
    "tags": []
   },
   "outputs": [
    {
     "name": "stdout",
     "output_type": "stream",
     "text": [
      "+----------+-------+---------+------------------+-------------+---------------+--------------+------------------+-------------------+\n",
      "|customerid|recency|frequency|    monetary_value|recency_score|frequency_score|monetary_score|         rfm_score|        rfm_segment|\n",
      "+----------+-------+---------+------------------+-------------+---------------+--------------+------------------+-------------------+\n",
      "|     15555|     12|       20|           4747.89|            5|              5|             5|               5.0|          Champions|\n",
      "|     15574|    177|        4| 675.6399999999999|            2|              4|             4|3.3333333333333335|    Loyal Customers|\n",
      "|     15634|     17|        1|243.54999999999995|            5|              2|             2|               3.0|Potential Loyalists|\n",
      "|     13610|     12|        9|           1065.88|            5|              5|             4| 4.666666666666667|          Champions|\n",
      "|     13192|     95|        2|            911.94|            3|              3|             4|3.3333333333333335|    Loyal Customers|\n",
      "|     14157|     19|        3|392.44000000000005|            4|              3|             3|3.3333333333333335|    Loyal Customers|\n",
      "|     17686|      7|        7|           5739.46|            5|              5|             5|               5.0|          Champions|\n",
      "|     13865|     58|        4|            501.56|            3|              4|             3|3.3333333333333335|    Loyal Customers|\n",
      "|     16250|    261|        2|389.43999999999994|            2|              3|             3|2.6666666666666665|Potential Loyalists|\n",
      "|     14204|      2|        1|150.61000000000004|            5|              2|             2|               3.0|Potential Loyalists|\n",
      "|     18130|      8|        4|1045.7399999999998|            5|              4|             4| 4.333333333333333|          Champions|\n",
      "|     17427|     71|        1|             100.8|            3|              2|             2|2.3333333333333335|     Lost Customers|\n",
      "|     15271|      7|       16|2472.0899999999997|            5|              5|             5|               5.0|          Champions|\n",
      "|     17714|    320|        1|             153.0|            2|              2|             2|               2.0|     Lost Customers|\n",
      "|     13282|     18|        6|1047.8400000000001|            4|              5|             4| 4.333333333333333|          Champions|\n",
      "|     16320|    172|        2|           1038.46|            2|              3|             4|               3.0|Potential Loyalists|\n",
      "|     17506|     70|        2|294.28999999999996|            3|              3|             2|2.6666666666666665|Potential Loyalists|\n",
      "|     12394|     63|        2|           1272.48|            3|              3|             4|3.3333333333333335|    Loyal Customers|\n",
      "|     15269|     23|        1|             408.8|            4|              2|             3|               3.0|Potential Loyalists|\n",
      "|     16504|     25|        1|            465.88|            4|              2|             3|               3.0|Potential Loyalists|\n",
      "+----------+-------+---------+------------------+-------------+---------------+--------------+------------------+-------------------+\n",
      "only showing top 20 rows\n",
      "\n"
     ]
    }
   ],
   "source": [
    "# Convert transaction date to a proper date type\n",
    "retail_df = retail_df.withColumn(\"invoicedate\", to_date(\"invoicedate\", \"yyyy-MM-dd\"))\n",
    "max_invoice_date = retail_df.agg({\"invoicedate\": \"max\"}).collect()[0][0]\n",
    "\n",
    "# Calculate recency, frequency, and monetary value for each customer\n",
    "rfm = retail_df.groupBy(\"customerid\") \\\n",
    "    .agg(\n",
    "        datediff(lit(max_invoice_date), max(\"invoicedate\")).alias(\"recency\"),\n",
    "        countDistinct(\"invoiceno\").alias(\"frequency\"),\n",
    "        (sum(col(\"unitprice\") * col(\"quantity\"))).alias(\"monetary_value\")\n",
    "    )\n",
    "\n",
    "# Calculate quartiles and assign scores for recency, frequency, and monetary value\n",
    "recency_quantiles = rfm.approxQuantile(\"recency\", [0.25, 0.5, 0.75], 0.05)\n",
    "frequency_quantiles = rfm.approxQuantile(\"frequency\", [0.25, 0.5, 0.75], 0.05)\n",
    "monetary_quantiles = rfm.approxQuantile(\"monetary_value\", [0.25, 0.5, 0.75], 0.05)\n",
    "\n",
    "rfm = rfm.withColumn(\"recency_score\",\n",
    "                     when(col(\"recency\") <= recency_quantiles[0], 5)\n",
    "                     .when((col(\"recency\") > recency_quantiles[0]) & (col(\"recency\") <= recency_quantiles[1]), 4)\n",
    "                     .when((col(\"recency\") > recency_quantiles[1]) & (col(\"recency\") <= recency_quantiles[2]), 3)\n",
    "                     .otherwise(2))\n",
    "\n",
    "rfm = rfm.withColumn(\"frequency_score\",\n",
    "                     when(col(\"frequency\") <= frequency_quantiles[0], 2)\n",
    "                     .when((col(\"frequency\") > frequency_quantiles[0]) & (col(\"frequency\") <= frequency_quantiles[1]), 3)\n",
    "                     .when((col(\"frequency\") > frequency_quantiles[1]) & (col(\"frequency\") <= frequency_quantiles[2]), 4)\n",
    "                     .otherwise(5))\n",
    "\n",
    "rfm = rfm.withColumn(\"monetary_score\",\n",
    "                     when(col(\"monetary_value\") <= monetary_quantiles[0], 2)\n",
    "                     .when((col(\"monetary_value\") > monetary_quantiles[0]) & (col(\"monetary_value\") <= monetary_quantiles[1]), 3)\n",
    "                     .when((col(\"monetary_value\") > monetary_quantiles[1]) & (col(\"monetary_value\") <= monetary_quantiles[2]), 4)\n",
    "                     .otherwise(5))\n",
    "\n",
    "# Calculate overall RFM score and segment customers based on RFM score\n",
    "rfm = rfm.withColumn(\"rfm_score\", (col(\"recency_score\") + col(\"frequency_score\") + col(\"monetary_score\")) / 3)\n",
    "rfm_quantiles = rfm.approxQuantile(\"rfm_score\", [0.25, 0.5, 0.75], 0.05)\n",
    "rfm = rfm.withColumn(\"rfm_segment\",\n",
    "                     when(col(\"rfm_score\") >= rfm_quantiles[2], \"Champions\")\n",
    "                     .when(col(\"rfm_score\") >= rfm_quantiles[1], \"Loyal Customers\")\n",
    "                     .when(col(\"rfm_score\") >= rfm_quantiles[0], \"Potential Loyalists\")\n",
    "                     .otherwise(\"Lost Customers\"))\n",
    "\n",
    "# Print the results\n",
    "rfm.show()"
   ]
  },
  {
   "cell_type": "code",
   "execution_count": 19,
   "id": "c5a34089-3f41-4f76-b225-dfe69a07f724",
   "metadata": {
    "tags": []
   },
   "outputs": [
    {
     "name": "stdout",
     "output_type": "stream",
     "text": [
      "Recency Range:\n",
      "+------------+------------+\n",
      "|min(recency)|max(recency)|\n",
      "+------------+------------+\n",
      "|           0|         373|\n",
      "+------------+------------+\n",
      "\n",
      "Frequency Range:\n",
      "+--------------+--------------+\n",
      "|min(frequency)|max(frequency)|\n",
      "+--------------+--------------+\n",
      "|             1|           248|\n",
      "+--------------+--------------+\n",
      "\n",
      "Monetary Value Range:\n",
      "+-------------------+-------------------+\n",
      "|min(monetary_value)|max(monetary_value)|\n",
      "+-------------------+-------------------+\n",
      "|           -4287.63|  279489.0200000002|\n",
      "+-------------------+-------------------+\n",
      "\n"
     ]
    }
   ],
   "source": [
    "print(\"Recency Range:\")\n",
    "rfm.select(min(\"recency\"), max(\"recency\")).show()\n",
    "\n",
    "print(\"Frequency Range:\")\n",
    "rfm.select(min(\"frequency\"), max(\"frequency\")).show()\n",
    "\n",
    "print(\"Monetary Value Range:\")\n",
    "rfm.select(min(\"monetary_value\"), max(\"monetary_value\")).show()"
   ]
  },
  {
   "cell_type": "code",
   "execution_count": 20,
   "id": "c8a8a5ef-d83d-485e-867c-86d7fdeb48d1",
   "metadata": {
    "tags": []
   },
   "outputs": [
    {
     "name": "stdout",
     "output_type": "stream",
     "text": [
      "Recency Range: 0 - 373\n",
      "Frequency Range: 1 - 248\n",
      "Monetary Value Range: -4287.63 - 279489.01999999996\n"
     ]
    }
   ],
   "source": [
    "# Get the range of values for the 'recency', 'frequency', and 'monetary_value' columns\n",
    "range_values = rfm.agg(\n",
    "    min(\"recency\").alias(\"min_recency\"),\n",
    "    max(\"recency\").alias(\"max_recency\"),\n",
    "    min(\"frequency\").alias(\"min_frequency\"),\n",
    "    max(\"frequency\").alias(\"max_frequency\"),\n",
    "    min(\"monetary_value\").alias(\"min_monetary_value\"),\n",
    "    max(\"monetary_value\").alias(\"max_monetary_value\")\n",
    ").collect()[0]\n",
    "\n",
    "# Access the range values\n",
    "min_recency = range_values[\"min_recency\"]\n",
    "max_recency = range_values[\"max_recency\"]\n",
    "min_frequency = range_values[\"min_frequency\"]\n",
    "max_frequency = range_values[\"max_frequency\"]\n",
    "min_monetary_value = range_values[\"min_monetary_value\"]\n",
    "max_monetary_value = range_values[\"max_monetary_value\"]\n",
    "\n",
    "# Print the range values\n",
    "print(\"Recency Range: {} - {}\".format(min_recency, max_recency))\n",
    "print(\"Frequency Range: {} - {}\".format(min_frequency, max_frequency))\n",
    "print(\"Monetary Value Range: {} - {}\".format(min_monetary_value, max_monetary_value))\n"
   ]
  },
  {
   "cell_type": "code",
   "execution_count": 21,
   "id": "46afd210-ad20-462f-a977-c7ec87bb95fc",
   "metadata": {
    "tags": []
   },
   "outputs": [
    {
     "data": {
      "image/png": "[encoded data removed]",
      "text/plain": [
       "<Figure size 1500x500 with 3 Axes>"
      ]
     },
     "metadata": {},
     "output_type": "display_data"
    },
    {
     "name": "stdout",
     "output_type": "stream",
     "text": [
      "Distribusi Customer RFM Segment\n",
      "+-------------------+-----+\n",
      "|        rfm_segment|count|\n",
      "+-------------------+-----+\n",
      "|          Champions| 1252|\n",
      "|     Lost Customers|  930|\n",
      "|    Loyal Customers| 1194|\n",
      "|Potential Loyalists|  996|\n",
      "+-------------------+-----+\n",
      "\n"
     ]
    }
   ],
   "source": [
    "# Calculate the count per RFM segment\n",
    "segment_counts = rfm.groupBy(\"rfm_segment\").count().orderBy(\"rfm_segment\")\n",
    "\n",
    "# Visualize the distribution of values\n",
    "fig, axes = plt.subplots(1, 3, figsize=(15, 5))\n",
    "\n",
    "# Plot the distribution of 'recency'\n",
    "axes[0].hist(rfm.select(\"recency\").rdd.flatMap(lambda x: x).collect(), bins=20, color='skyblue')\n",
    "axes[0].set_title(\"Recency Distribution\")\n",
    "\n",
    "# Plot the distribution of 'frequency'\n",
    "axes[1].hist(rfm.select(\"frequency\").rdd.flatMap(lambda x: x).collect(), bins=20, color='lightgreen')\n",
    "axes[1].set_title(\"Frequency Distribution\")\n",
    "\n",
    "# Plot the distribution of 'monetary_value'\n",
    "axes[2].hist(rfm.select(\"monetary_value\").rdd.flatMap(lambda x: x).collect(), bins=20, color='salmon')\n",
    "axes[2].set_title(\"Monetary Value Distribution\")\n",
    "\n",
    "# Adjust spacing between subplots\n",
    "plt.tight_layout()\n",
    "\n",
    "# Show the plots\n",
    "plt.show()\n",
    "\n",
    "# Print the count per RFM segment\n",
    "print(f\"Distribusi Customer RFM Segment\")\n",
    "segment_counts.show()\n"
   ]
  },
  {
   "cell_type": "code",
   "execution_count": 22,
   "id": "2cc3df94-5f5f-4a88-9a99-90e3076cdd5d",
   "metadata": {
    "tags": []
   },
   "outputs": [
    {
     "name": "stdout",
     "output_type": "stream",
     "text": [
      "Behavior RFM Segment (Average)\n",
      "+-------------------+--------------------------------------------------+---------------------------------------+----------------------------------+\n",
      "|        rfm_segment|Rata-rata Recency (Hari sejak transaksi) Customers|Rata-rata Frekuensi Transaksi Customers|Rata-rata Total Spending Customers|\n",
      "+-------------------+--------------------------------------------------+---------------------------------------+----------------------------------+\n",
      "|          Champions|                                              18.3|                                   12.1|                            5120.1|\n",
      "|Potential Loyalists|                                             106.2|                                    1.8|                             448.9|\n",
      "|    Loyal Customers|                                              54.9|                                    3.4|                            1037.0|\n",
      "|     Lost Customers|                                             221.6|                                    1.2|                             196.6|\n",
      "+-------------------+--------------------------------------------------+---------------------------------------+----------------------------------+\n",
      "\n"
     ]
    }
   ],
   "source": [
    "summary_df = rfm.groupBy(\"rfm_segment\").agg(\n",
    "    round(avg(\"recency\"), 1).alias(\"Rata-rata Recency (Hari sejak transaksi) Customers\"),\n",
    "    round(avg(\"frequency\"), 1).alias(\"Rata-rata Frekuensi Transaksi Customers\"),\n",
    "    round(avg(\"monetary_value\"), 1).alias(\"Rata-rata Total Spending Customers\")\n",
    ")\n",
    "\n",
    "print(\"Behavior RFM Segment (Average)\")\n",
    "summary_df.show()"
   ]
  },
  {
   "cell_type": "code",
   "execution_count": 23,
   "id": "7a53a608-ab10-43dc-a713-05c0997d1732",
   "metadata": {
    "tags": []
   },
   "outputs": [
    {
     "name": "stdout",
     "output_type": "stream",
     "text": [
      "Behavior RFM Segment (Median)\n",
      "+-------------------+-----------------------------------------------+------------------------------------+-------------------------------+\n",
      "|        rfm_segment|Median Recency (Hari sejak transaksi) Customers|Median Frekuensi Transaksi Customers|Median Total Spending Customers|\n",
      "+-------------------+-----------------------------------------------+------------------------------------+-------------------------------+\n",
      "|          Champions|                                             11|                                   8|                         2456.8|\n",
      "|Potential Loyalists|                                             74|                                   2|                          379.5|\n",
      "|    Loyal Customers|                                             36|                                   3|                          781.3|\n",
      "|     Lost Customers|                                            227|                                   1|                          187.0|\n",
      "+-------------------+-----------------------------------------------+------------------------------------+-------------------------------+\n",
      "\n"
     ]
    }
   ],
   "source": [
    "# from pyspark.sql.functions import col, expr\n",
    "\n",
    "# # Create window specifications for partitioning by rfm_segment\n",
    "# window_spec = Window.partitionBy(\"rfm_segment\")\n",
    "\n",
    "# Calculate median for recency, frequency, and monetary_value\n",
    "summary_df = rfm.groupBy(\"rfm_segment\").agg(\n",
    "    expr(\"percentile_approx(recency, 0.5)\").alias(\"Median Recency (Hari sejak transaksi) Customers\"),\n",
    "    expr(\"percentile_approx(frequency, 0.5)\").alias(\"Median Frekuensi Transaksi Customers\"),\n",
    "    round(expr(\"percentile_approx(monetary_value, 0.5)\"),1).alias(\"Median Total Spending Customers\")\n",
    ")\n",
    "\n",
    "# Display the summary DataFrame\n",
    "print(\"Behavior RFM Segment (Median)\")\n",
    "summary_df.show()\n"
   ]
  },
  {
   "cell_type": "code",
   "execution_count": 24,
   "id": "a9a1f85a-ef58-4a5d-8649-19cfcd6ee45e",
   "metadata": {
    "tags": []
   },
   "outputs": [
    {
     "name": "stdout",
     "output_type": "stream",
     "text": [
      "Behavior RFM Segment (Median)\n",
      "+-------------------+-----------------------------------------------+------------------------------------+-------------------------------+\n",
      "|        rfm_segment|Median Recency (Hari sejak transaksi) Customers|Median Frekuensi Transaksi Customers|Median Total Spending Customers|\n",
      "+-------------------+-----------------------------------------------+------------------------------------+-------------------------------+\n",
      "|          Champions|                                             11|                                   8|                         2456.8|\n",
      "|Potential Loyalists|                                             74|                                   2|                          379.5|\n",
      "|    Loyal Customers|                                             36|                                   3|                          781.3|\n",
      "|     Lost Customers|                                            227|                                   1|                          187.0|\n",
      "+-------------------+-----------------------------------------------+------------------------------------+-------------------------------+\n",
      "\n"
     ]
    }
   ],
   "source": [
    "summary_df = rfm.groupBy(\"rfm_segment\").agg(\n",
    "    expr(\"percentile_approx(recency, 0.5)\").alias(\"Median Recency (Hari sejak transaksi) Customers\"),\n",
    "    expr(\"percentile_approx(frequency, 0.5)\").alias(\"Median Frekuensi Transaksi Customers\"),\n",
    "    round(expr(\"percentile_approx(monetary_value, 0.5)\"),1).alias(\"Median Total Spending Customers\")\n",
    ")\n",
    "\n",
    "# Display the summary DataFrame\n",
    "print(\"Behavior RFM Segment (Median)\")\n",
    "summary_df.show()"
   ]
  },
  {
   "cell_type": "code",
   "execution_count": null,
   "id": "520a5187-b011-4c49-a717-5203194ba19f",
   "metadata": {},
   "outputs": [],
   "source": []
  },
  {
   "cell_type": "code",
   "execution_count": null,
   "id": "39a1d2fa-13fb-4736-89a2-48e102617892",
   "metadata": {},
   "outputs": [],
   "source": []
  },
  {
   "cell_type": "code",
   "execution_count": null,
   "id": "2e7ca6cf-f41b-4656-aca5-9c5ec4f86402",
   "metadata": {},
   "outputs": [],
   "source": []
  }
 ],
 "metadata": {
  "kernelspec": {
   "display_name": "Python 3 (ipykernel)",
   "language": "python",
   "name": "python3"
  },
  "language_info": {
   "codemirror_mode": {
    "name": "ipython",
    "version": 3
   },
   "file_extension": ".py",
   "mimetype": "text/x-python",
   "name": "python",
   "nbconvert_exporter": "python",
   "pygments_lexer": "ipython3",
   "version": "3.10.10"
  }
 },
 "nbformat": 4,
 "nbformat_minor": 5
}
